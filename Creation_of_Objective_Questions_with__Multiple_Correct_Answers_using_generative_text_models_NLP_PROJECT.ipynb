{
  "cells": [
    {
      "cell_type": "markdown",
      "metadata": {
        "id": "view-in-github",
        "colab_type": "text"
      },
      "source": [
        "<a href=\"https://colab.research.google.com/github/rockingkamal/NLP/blob/main/Creation_of_Objective_Questions_with__Multiple_Correct_Answers_using_generative_text_models_NLP_PROJECT.ipynb\" target=\"_parent\"><img src=\"https://colab.research.google.com/assets/colab-badge.svg\" alt=\"Open In Colab\"/></a>"
      ]
    },
    {
      "cell_type": "markdown",
      "source": [
        "## Packages to install"
      ],
      "metadata": {
        "id": "lEvO_DPX9gS6"
      }
    },
    {
      "cell_type": "code",
      "source": [
        "!pip install -U langchain\n",
        "!pip install PyPDF2\n",
        "!pip install openai"
      ],
      "metadata": {
        "colab": {
          "base_uri": "https://localhost:8080/"
        },
        "id": "IZBBtphY3wec",
        "outputId": "78b9f84e-7a25-4fd7-f134-f9ca79d064b6"
      },
      "execution_count": 2,
      "outputs": [
        {
          "output_type": "stream",
          "name": "stdout",
          "text": [
            "Collecting langchain\n",
            "  Downloading langchain-0.0.327-py3-none-any.whl (2.0 MB)\n",
            "\u001b[?25l     \u001b[90m━━━━━━━━━━━━━━━━━━━━━━━━━━━━━━━━━━━━━━━━\u001b[0m \u001b[32m0.0/2.0 MB\u001b[0m \u001b[31m?\u001b[0m eta \u001b[36m-:--:--\u001b[0m\r\u001b[2K     \u001b[91m━━\u001b[0m\u001b[91m╸\u001b[0m\u001b[90m━━━━━━━━━━━━━━━━━━━━━━━━━━━━━━━━━━━━━\u001b[0m \u001b[32m0.1/2.0 MB\u001b[0m \u001b[31m3.5 MB/s\u001b[0m eta \u001b[36m0:00:01\u001b[0m\r\u001b[2K     \u001b[91m━━━━━━━━━━━━━━━━━━━━━━━━━━━━━━━━━━━━━\u001b[0m\u001b[91m╸\u001b[0m\u001b[90m━━\u001b[0m \u001b[32m1.8/2.0 MB\u001b[0m \u001b[31m26.6 MB/s\u001b[0m eta \u001b[36m0:00:01\u001b[0m\r\u001b[2K     \u001b[90m━━━━━━━━━━━━━━━━━━━━━━━━━━━━━━━━━━━━━━━━\u001b[0m \u001b[32m2.0/2.0 MB\u001b[0m \u001b[31m21.9 MB/s\u001b[0m eta \u001b[36m0:00:00\u001b[0m\n",
            "\u001b[?25hRequirement already satisfied: PyYAML>=5.3 in /usr/local/lib/python3.10/dist-packages (from langchain) (6.0.1)\n",
            "Requirement already satisfied: SQLAlchemy<3,>=1.4 in /usr/local/lib/python3.10/dist-packages (from langchain) (2.0.22)\n",
            "Requirement already satisfied: aiohttp<4.0.0,>=3.8.3 in /usr/local/lib/python3.10/dist-packages (from langchain) (3.8.6)\n",
            "Requirement already satisfied: anyio<4.0 in /usr/local/lib/python3.10/dist-packages (from langchain) (3.7.1)\n",
            "Requirement already satisfied: async-timeout<5.0.0,>=4.0.0 in /usr/local/lib/python3.10/dist-packages (from langchain) (4.0.3)\n",
            "Collecting dataclasses-json<0.7,>=0.5.7 (from langchain)\n",
            "  Downloading dataclasses_json-0.6.1-py3-none-any.whl (27 kB)\n",
            "Collecting jsonpatch<2.0,>=1.33 (from langchain)\n",
            "  Downloading jsonpatch-1.33-py2.py3-none-any.whl (12 kB)\n",
            "Collecting langsmith<0.1.0,>=0.0.52 (from langchain)\n",
            "  Downloading langsmith-0.0.54-py3-none-any.whl (43 kB)\n",
            "\u001b[2K     \u001b[90m━━━━━━━━━━━━━━━━━━━━━━━━━━━━━━━━━━━━━━━━\u001b[0m \u001b[32m43.7/43.7 kB\u001b[0m \u001b[31m5.8 MB/s\u001b[0m eta \u001b[36m0:00:00\u001b[0m\n",
            "\u001b[?25hRequirement already satisfied: numpy<2,>=1 in /usr/local/lib/python3.10/dist-packages (from langchain) (1.23.5)\n",
            "Requirement already satisfied: pydantic<3,>=1 in /usr/local/lib/python3.10/dist-packages (from langchain) (1.10.13)\n",
            "Requirement already satisfied: requests<3,>=2 in /usr/local/lib/python3.10/dist-packages (from langchain) (2.31.0)\n",
            "Requirement already satisfied: tenacity<9.0.0,>=8.1.0 in /usr/local/lib/python3.10/dist-packages (from langchain) (8.2.3)\n",
            "Requirement already satisfied: attrs>=17.3.0 in /usr/local/lib/python3.10/dist-packages (from aiohttp<4.0.0,>=3.8.3->langchain) (23.1.0)\n",
            "Requirement already satisfied: charset-normalizer<4.0,>=2.0 in /usr/local/lib/python3.10/dist-packages (from aiohttp<4.0.0,>=3.8.3->langchain) (3.3.1)\n",
            "Requirement already satisfied: multidict<7.0,>=4.5 in /usr/local/lib/python3.10/dist-packages (from aiohttp<4.0.0,>=3.8.3->langchain) (6.0.4)\n",
            "Requirement already satisfied: yarl<2.0,>=1.0 in /usr/local/lib/python3.10/dist-packages (from aiohttp<4.0.0,>=3.8.3->langchain) (1.9.2)\n",
            "Requirement already satisfied: frozenlist>=1.1.1 in /usr/local/lib/python3.10/dist-packages (from aiohttp<4.0.0,>=3.8.3->langchain) (1.4.0)\n",
            "Requirement already satisfied: aiosignal>=1.1.2 in /usr/local/lib/python3.10/dist-packages (from aiohttp<4.0.0,>=3.8.3->langchain) (1.3.1)\n",
            "Requirement already satisfied: idna>=2.8 in /usr/local/lib/python3.10/dist-packages (from anyio<4.0->langchain) (3.4)\n",
            "Requirement already satisfied: sniffio>=1.1 in /usr/local/lib/python3.10/dist-packages (from anyio<4.0->langchain) (1.3.0)\n",
            "Requirement already satisfied: exceptiongroup in /usr/local/lib/python3.10/dist-packages (from anyio<4.0->langchain) (1.1.3)\n",
            "Collecting marshmallow<4.0.0,>=3.18.0 (from dataclasses-json<0.7,>=0.5.7->langchain)\n",
            "  Downloading marshmallow-3.20.1-py3-none-any.whl (49 kB)\n",
            "\u001b[2K     \u001b[90m━━━━━━━━━━━━━━━━━━━━━━━━━━━━━━━━━━━━━━━━\u001b[0m \u001b[32m49.4/49.4 kB\u001b[0m \u001b[31m6.7 MB/s\u001b[0m eta \u001b[36m0:00:00\u001b[0m\n",
            "\u001b[?25hCollecting typing-inspect<1,>=0.4.0 (from dataclasses-json<0.7,>=0.5.7->langchain)\n",
            "  Downloading typing_inspect-0.9.0-py3-none-any.whl (8.8 kB)\n",
            "Collecting jsonpointer>=1.9 (from jsonpatch<2.0,>=1.33->langchain)\n",
            "  Downloading jsonpointer-2.4-py2.py3-none-any.whl (7.8 kB)\n",
            "Requirement already satisfied: typing-extensions>=4.2.0 in /usr/local/lib/python3.10/dist-packages (from pydantic<3,>=1->langchain) (4.5.0)\n",
            "Requirement already satisfied: urllib3<3,>=1.21.1 in /usr/local/lib/python3.10/dist-packages (from requests<3,>=2->langchain) (2.0.7)\n",
            "Requirement already satisfied: certifi>=2017.4.17 in /usr/local/lib/python3.10/dist-packages (from requests<3,>=2->langchain) (2023.7.22)\n",
            "Requirement already satisfied: greenlet!=0.4.17 in /usr/local/lib/python3.10/dist-packages (from SQLAlchemy<3,>=1.4->langchain) (3.0.0)\n",
            "Requirement already satisfied: packaging>=17.0 in /usr/local/lib/python3.10/dist-packages (from marshmallow<4.0.0,>=3.18.0->dataclasses-json<0.7,>=0.5.7->langchain) (23.2)\n",
            "Collecting mypy-extensions>=0.3.0 (from typing-inspect<1,>=0.4.0->dataclasses-json<0.7,>=0.5.7->langchain)\n",
            "  Downloading mypy_extensions-1.0.0-py3-none-any.whl (4.7 kB)\n",
            "Installing collected packages: mypy-extensions, marshmallow, jsonpointer, typing-inspect, langsmith, jsonpatch, dataclasses-json, langchain\n",
            "Successfully installed dataclasses-json-0.6.1 jsonpatch-1.33 jsonpointer-2.4 langchain-0.0.327 langsmith-0.0.54 marshmallow-3.20.1 mypy-extensions-1.0.0 typing-inspect-0.9.0\n",
            "Collecting PyPDF2\n",
            "  Downloading pypdf2-3.0.1-py3-none-any.whl (232 kB)\n",
            "\u001b[2K     \u001b[90m━━━━━━━━━━━━━━━━━━━━━━━━━━━━━━━━━━━━━━━━\u001b[0m \u001b[32m232.6/232.6 kB\u001b[0m \u001b[31m4.0 MB/s\u001b[0m eta \u001b[36m0:00:00\u001b[0m\n",
            "\u001b[?25hInstalling collected packages: PyPDF2\n",
            "Successfully installed PyPDF2-3.0.1\n",
            "Collecting openai\n",
            "  Downloading openai-0.28.1-py3-none-any.whl (76 kB)\n",
            "\u001b[2K     \u001b[90m━━━━━━━━━━━━━━━━━━━━━━━━━━━━━━━━━━━━━━━━\u001b[0m \u001b[32m77.0/77.0 kB\u001b[0m \u001b[31m2.3 MB/s\u001b[0m eta \u001b[36m0:00:00\u001b[0m\n",
            "\u001b[?25hRequirement already satisfied: requests>=2.20 in /usr/local/lib/python3.10/dist-packages (from openai) (2.31.0)\n",
            "Requirement already satisfied: tqdm in /usr/local/lib/python3.10/dist-packages (from openai) (4.66.1)\n",
            "Requirement already satisfied: aiohttp in /usr/local/lib/python3.10/dist-packages (from openai) (3.8.6)\n",
            "Requirement already satisfied: charset-normalizer<4,>=2 in /usr/local/lib/python3.10/dist-packages (from requests>=2.20->openai) (3.3.1)\n",
            "Requirement already satisfied: idna<4,>=2.5 in /usr/local/lib/python3.10/dist-packages (from requests>=2.20->openai) (3.4)\n",
            "Requirement already satisfied: urllib3<3,>=1.21.1 in /usr/local/lib/python3.10/dist-packages (from requests>=2.20->openai) (2.0.7)\n",
            "Requirement already satisfied: certifi>=2017.4.17 in /usr/local/lib/python3.10/dist-packages (from requests>=2.20->openai) (2023.7.22)\n",
            "Requirement already satisfied: attrs>=17.3.0 in /usr/local/lib/python3.10/dist-packages (from aiohttp->openai) (23.1.0)\n",
            "Requirement already satisfied: multidict<7.0,>=4.5 in /usr/local/lib/python3.10/dist-packages (from aiohttp->openai) (6.0.4)\n",
            "Requirement already satisfied: async-timeout<5.0,>=4.0.0a3 in /usr/local/lib/python3.10/dist-packages (from aiohttp->openai) (4.0.3)\n",
            "Requirement already satisfied: yarl<2.0,>=1.0 in /usr/local/lib/python3.10/dist-packages (from aiohttp->openai) (1.9.2)\n",
            "Requirement already satisfied: frozenlist>=1.1.1 in /usr/local/lib/python3.10/dist-packages (from aiohttp->openai) (1.4.0)\n",
            "Requirement already satisfied: aiosignal>=1.1.2 in /usr/local/lib/python3.10/dist-packages (from aiohttp->openai) (1.3.1)\n",
            "Installing collected packages: openai\n",
            "\u001b[31mERROR: pip's dependency resolver does not currently take into account all the packages that are installed. This behaviour is the source of the following dependency conflicts.\n",
            "llmx 0.0.15a0 requires cohere, which is not installed.\n",
            "llmx 0.0.15a0 requires tiktoken, which is not installed.\u001b[0m\u001b[31m\n",
            "\u001b[0mSuccessfully installed openai-0.28.1\n"
          ]
        }
      ]
    },
    {
      "cell_type": "markdown",
      "source": [
        "## Libraries"
      ],
      "metadata": {
        "id": "KqGLAXyH9rUR"
      }
    },
    {
      "cell_type": "code",
      "execution_count": 3,
      "metadata": {
        "id": "o1uPQucHuYGW"
      },
      "outputs": [],
      "source": [
        "\n",
        "import PyPDF2\n",
        "from langchain import OpenAI\n",
        "from langchain.chat_models import ChatOpenAI\n",
        "from langchain.chains import SequentialChain\n",
        "from langchain.chains import LLMChain\n",
        "from langchain.prompts import PromptTemplate\n",
        "import os\n"
      ]
    },
    {
      "cell_type": "markdown",
      "source": [
        "## import OPENAI API key"
      ],
      "metadata": {
        "id": "HGfvVUP69zI_"
      }
    },
    {
      "cell_type": "code",
      "source": [
        "os.environ['OPENAI_API_KEY']=\"sk-#*******************#\" #paste api here"
      ],
      "metadata": {
        "id": "N6N6wQNI3jgM"
      },
      "execution_count": 16,
      "outputs": []
    },
    {
      "cell_type": "code",
      "execution_count": 17,
      "metadata": {
        "id": "h84Yrq16u_1D"
      },
      "outputs": [],
      "source": [
        "from PyPDF2 import PdfReader\n",
        "\n",
        "reader = PdfReader(\"/content/chapter-3.pdf\") #choose data set path\n",
        "chapter=''\n",
        "number_of_pages = len(reader.pages)\n",
        "for i in range(number_of_pages):\n",
        "  page = reader.pages[i]\n",
        "  text = page.extract_text()\n",
        "  text=text.replace('\\n',\" \")\n",
        "  chapter=chapter+f' {text}'\n",
        "chapter=\" \".join(chapter.split())"
      ]
    },
    {
      "cell_type": "code",
      "source": [
        "#total number of pages\n",
        "print(len(reader.pages))"
      ],
      "metadata": {
        "colab": {
          "base_uri": "https://localhost:8080/"
        },
        "id": "SyBlTFsJ7vNc",
        "outputId": "9722265b-035b-4a44-f56b-73c740cfa269"
      },
      "execution_count": 23,
      "outputs": [
        {
          "output_type": "stream",
          "name": "stdout",
          "text": [
            "13\n"
          ]
        }
      ]
    },
    {
      "cell_type": "code",
      "source": [
        "#print(chapter)"
      ],
      "metadata": {
        "colab": {
          "base_uri": "https://localhost:8080/"
        },
        "id": "DMSBfjswG8DA",
        "outputId": "9810677b-acb6-4931-dde9-c035cbc97e64"
      },
      "execution_count": 39,
      "outputs": [
        {
          "output_type": "stream",
          "name": "stdout",
          "text": [
            "Fig. 1 – Robert Clive accepting the Diwani of Bengal, Bihar and Orissa from the Mughal ruler in 1765 The Company Becomes the Diwan On 12 August 1765, the Mughal emperor appointed the East India Company as the Diwan of Bengal. The actual event most probably took place in Robert Clive’s tent, with a few Englishmen and Indians as witnesses. But in the painting above, the event is shown as a majestic occasion, taking place in a grand setting. The painter was commissioned by Clive to record the memorable events in Clive’s life. The grant of Diwani clearly was one such event in British imagination. As Diwan, the Company became the chief financial administrator of the territory under its control. Now it had to think of administering the land and organising its revenue resources. This had to be done in a way that could yield enough revenue to meet the growing expenses of the company. A trading company had also to ensure that it could buy the products it needed and sell what it wanted. Ruling the Countryside 3 chap 1-4.indd 26 4/22/2022 2:49:47 PMRationalised 2023-24 RULING THE COUNTRYSIDE 27Over the years, the Company also learnt that it had to move with some caution. Being an alien power, it needed to pacify those who in the past had ruled the countryside, and enjoyed authority and prestige. Those who had held local power had to be controlled but they could not be entirely eliminated. How was this to be done? In this chapter we will see how the Company came to colonise the countryside, organise revenue resources, redefine the rights of people, and produce the crops it wanted. Revenue for the Company The Company had become the Diwan, but it still saw itself primarily as a trader. It wanted a large revenue income but was unwilling to set up any regular system of assessment and collection. The effort was to increase the revenue as much as it could and buy fine cotton and silk cloth as cheaply as possible. Within five years, the value of goods bought by the Company in Bengal doubled. Before 1765, the Company had purchased goods in India by importing gold and silver from Britain. Now the revenue collected in Bengal could finance the purchase of goods for export. Soon it was clear that the Bengal economy was facing a deep crisis. Artisans were deserting villages since they were being forced to sell their goods to the Company at low prices. Peasants were unable to pay the dues that were being demanded from them. Artisanal production was in decline, and agricultural cultivation showed signs of collapse. Then in 1770, a terrible famine killed ten million people in Bengal. About one-third of the population was wiped out. Fig. 2 – A weekly market in Murshidabad in Bengal Peasants and artisans from rural areas regularly came to these weekly markets (haats) to sell their goods and buy what they needed. These markets were badly affected during times of economic crisis. chap 1-4.indd 27 4/22/2022 2:49:47 PMRationalised 2023-24 28 OUR PASTS – IIIThe need to improve agriculture If the economy was in ruins, could the Company be certain of its revenue income? Most Company officials began to feel that investment in land had to be encouraged and agriculture had to be improved. How was this to be done? After two decades of debate on the question, the Company finally introduced the Permanent Settlement in 1793. By the terms of the settlement, the rajas and taluqdars were recognised as zamindars. They were asked to collect rent from the peasants and pay revenue to the Company. The amount to be paid was fixed permanently, that is, it was not to be increased ever in future. It was felt that this would ensure a regular flow of revenue into the Company’s coffers and at the same time encourage the zamindars to invest in improving the land. Since the revenue demand of the state would not be increased, the zamindar would benefit from increased production from the land. The problem The Permanent Settlement, however, created problems. Company officials soon discovered that the zamindars were in fact not investing in the improvement of land. The revenue that had been fixed was so high that the zamindars found it difficult to pay. Anyone who failed to pay the revenue lost his zamindari. Numerous zamindaris were sold off at auctions organised by the Company. By the first decade of the nineteenth century, the situation changed. The prices in the market rose and cultivation slowly expanded. This meant an increase in the income of the zamindars but no gain for the Company since it could not increase a revenue demand that had been fixed permanently. Even then the zamindars did not have an interest in improving the land. Some had lost their lands in the earlier years of the settlement; others now saw the possibility of earning without the trouble and risk of investment. As long as the zamindars could give out the land to tenants and get rent, they were not interested in improving the land. Fig. 3 – Charles Cornwallis Cornwallis was the Governor- General of Bengal when the Permanent Settlement was introduced. Colebrook on Bengal ryots In many villages of Bengal, some of the powerful ryots did not cultivate, but instead gave out their lands to others (the under-tenants), taking from them very high rents. In 1806, H. T. Colebrook described the conditions of these under-tenants in Bengal: The under-tenants, depressed by an excessive rent in kind, and by usurious returns for the cattle, seed, and subsistence, advanced to them, can never extricate themselves from debt. In so abject a state, they cannot labour in spirit, while they earn a scanty subsistence without hope of bettering their situation. Activity Why do you think Colebrook is concerned with the conditions of the under-ryots in Bengal? Read the preceding pages and suggest possible reasons. Source 1 chap 1-4.indd 28 6/14/2022 2:39:26 PMRationalised 2023-24 RULING THE COUNTRYSIDE 29On the other hand, in the villages, the cultivator found the system extremely oppressive. The rent he paid to the zamindar was high and his right on the land was insecure. To pay the rent he had to often take a loan from the moneylender, and when he failed to pay the rent, he was evicted from the land he had cultivated for generations. A new system is devised By the early nineteenth century, many of the Company officials were convinced that the system of revenue had to be changed again. How could revenues be fixed permanently at a time when the Company needed more money to meet its expenses of administration and trade? In the North Western Provinces of the Bengal Presidency (most of this area is now in Uttar Pradesh), an Englishman called Holt Mackenzie devised the new system which came into effect in 1822. He felt that the village was an important social institution in north Indian society and needed to be preserved. Under his directions, collectors went from village to village, inspecting the land, measuring the fields, and recording the customs and rights of different groups. The estimated revenue of each plot within a village was added up to calculate the revenue that each village (mahal) had to pay. This demand was to be revised periodically, not permanently fixed. The charge of collecting the revenue and paying it to the Company was given to the village headman, rather than the zamindar. This system came to be known as the mahalwari settlement. The Munro system In the British territories in the South, there was a similar move away from the idea of Permanent Settlement. The new system that was devised came to be known as the ryotwar (or ryotwari ). It was tried on a small scale by Captain Alexander Read in some of the areas that were taken over by the Company after the wars with Tipu Sultan. Subsequently developed by Thomas Munro, this system was gradually extended all over south India. Read and Munro felt that in the south there were no traditional zamindars. The settlement, they argued, had to be made directly with the cultivators ( ryots ) who had tilled the land for generations. Their fields had to be carefully and separately surveyed before the revenue assessment was made. Munro thought that the British Mahal – In British revenue records, mahal is a revenue estate which may be a village or a group of villages. Fig. 4 – Thomas Munro, Governor of Madras (1819 –26) chap 1-4.indd 29 4/22/2022 2:49:49 PMRationalised 2023-24 30 OUR PASTS – IIIshould act as paternal father figures protecting the ryots under their charge. All was not well Within a few years after the new systems were imposed, it was clear that all was not well with them. Driven by the desire to increase the income from land, revenue officials fixed too high a revenue demand. Peasants were unable to pay, ryots fled the countryside, and villages became deserted in many regions. Optimistic officials had imagined that the new systems would transform the peasants into rich enterprising farmers. But this did not happen. Crops for Europe The British also realised that the countryside could not only yield revenue, it could also grow the crops that Europe required. By the late eighteenth century, the Company was trying its best to expand the cultivation of opium and indigo. In the century and a half that followed, the British persuaded or forced cultivators in various parts of India to produce other crops: jute in Bengal, tea in Assam, sugarcane in the United Provinces (now Uttar Pradesh), wheat in Punjab, cotton in Maharashtra and Punjab, rice in Madras. How was this done? The British used a variety of methods to expand the cultivation of crops that they needed. Let us take a closer look at the story of one such crop, one such method of production. Does colour have a history? Figs. 5 and 6 are two images of cotton prints. The image on the left (Fig. 5) shows a kalamkari print created by weavers of Andhra Pradesh in India. On the right is a floral cotton print designed and produced by William Morris, a famous poet and artist of nineteenth-century Britain. There is one thing common in the Fig. 5 – A kalamkari print, twentieth-century IndiaFig. 6 – A Morris cotton print, late- nineteenth-century England Activity Imagine that you are a Company representative sending a report back to England about the conditions in rural areas under Company rule. What would you write? chap 1-4.indd 30 4/22/2022 2:49:53 PMRationalised 2023-24 RULING THE COUNTRYSIDE 31two prints: both use a rich blue colour – commonly called indigo. Do you know how this colour was produced? The blue that you see in these prints was produced from a plant called indigo. It is likely that the blue dye used in the Morris prints in nineteenth-century Britain was manufactured from indigo plants cultivated in India. For India was the biggest supplier of indigo in the world at that time. Why the demand for Indian indigo? The indigo plant grows primarily in the tropics. By the thirteenth century, Indian indigo was being used by cloth manufacturers in Italy, France and Britain to dye cloth. However, only small amounts of Indian indigo reached the European market and its price was very high. European cloth manufacturers therefore had to depend on another plant called woad to make violet and blue dyes. Being a plant of the temperate zones, woad was more easily available in Europe. It was grown in northern Italy, southern France and in parts of Germany and Britain. Worried by the competition from indigo, woad producers in Europe pressurised their governments to ban the import of indigo. Cloth dyers, however, preferred indigo as a dye. Indigo produced a rich blue colour, whereas the dye from woad was pale and dull. By the seventeenth century, European cloth producers persuaded their governments to relax the ban on indigo import. The French began cultivating indigo in St Domingue in the Caribbean islands, the Portuguese in Brazil, the English in Jamaica, and the Spanish in Venezuela. Indigo plantations also came up in many parts of North America. By the end of the eighteenth century, the demand for Indian indigo grew further. Britain began to industrialise, and its cotton production expanded dramatically, creating an enormous new demand for cloth dyes. While the demand for indigo increased, its existing supplies from the West Indies and America collapsed for a variety of reasons. Between 1783 and 1789, the production of indigo in the world fell by half. Cloth dyers in Britain now desperately looked for new sources of indigo supply. From where could this indigo be procured? Britain turns to India Faced with the rising demand for indigo in Europe, the Company in India looked for ways to expand the area under indigo cultivation. Plantation – A large farm operated by a planter employing various forms of forced labour. Plantations are associated with the production of coffee, sugarcane, tobacco, tea and cotton. chap 1-4.indd 31 4/22/2022 2:49:53 PMRationalised 2023-24 32 OUR PASTS – IIIFrom the last decades of the eighteenth century, indigo cultivation in Bengal expanded rapidly and Bengal indigo came to dominate the world market. In 1788, only about 30 per cent of the indigo imported into Britain was from India. By 1810, the proportion had gone up to 95 per cent. As the indigo trade grew, commercial agents and officials of the Company began investing in indigo production. Over the years many Company officials left their jobs to look after their indigo business. Attracted by the prospect of high profits, numerous Scotsmen and Englishmen came to India and became planters. Those who had no money to produce indigo could get loans from the Company and the banks that were coming up at the time. How was indigo cultivated? There were two main systems of indigo cultivation – nij and ryoti. Within the system of nij cultivation, the planter produced indigo in lands that he directly controlled. He either bought the land or rented it from other zamindars and produced indigo by directly employing hired labourers. The problem with nij cultivation The planters found it difficult to expand the area under nij cultivation. Indigo could be cultivated only on fertile lands, and these were all already densely populated. Only small plots scattered over the landscape could be acquired. Planters needed large areas in compact blocks to cultivate indigo in plantations. Where could they get such land from? They attempted to lease in the land around the indigo factory, and evict the peasants from the area. But this always led to conflicts and tension. Nor was labour easy to mobilise. A large plantation required a vast number of hands to operate. And labour was needed precisely at a time when peasants were usually busy with their rice cultivation. Fig. 7 – The Slave Revolt in St Domingue, August 1791, painting by January Scuhodolski In the eighteenth century, French planters produced indigo and sugar in the French colony of St Domingue in the Caribbean islands. The African slaves who worked on the plantations rose in rebellion in 1791, burning the plantations and killing their rich planters. In 1792, France abolished slavery in the French colonies. These events led to the collapse of the indigo plantations on the Caribbean islands. Slave – A person who is owned by someone else – the slave owner. A slave has no freedom and is compelled to work for the master. chap 1-4.indd 32 4/22/2022 2:49:55 PMRationalised 2023-24 RULING THE COUNTRYSIDE 33 Nij cultivation on a large scale also required many ploughs and bullocks. One bigha of indigo cultivation required two ploughs. This meant that a planter with 1,000 bighas would need 2,000 ploughs. Investing on purchase and maintenance of ploughs was a big problem. Nor could supplies be easily got from the peasants since their ploughs and bullocks were busy on their rice fields, again exactly at the time that the indigo planters needed them. Till the late nineteenth century, planters were therefore reluctant to expand the area under nij cultivation. Less than 25 per cent of the land producing indigo was under this system. The rest was under an alternative mode of cultivation – the ryoti system. Indigo on the land of ryots Under the ryoti system, the planters forced the ryots to sign a contract, an agreement ( satta ). At times they pressurised the village headmen to sign the contract on behalf of the ryots. Those who signed the contract got cash advances from the planters at low rates of interest to produce indigo. But the loan committed the ryot to cultivating indigo on at least 25 per cent of the area under his holding. The planter provided the seed and the drill, while the cultivators prepared the soil, sowed the seed and looked after the crop. Fig. 8 – Workers harvesting indigo in early-nineteenth-century Bengal. From Colesworthy Grant, Rural Life in Bengal, 1860 In India the indigo plant was cut mostly by men. Bigha – A unit of measurement of land. Before British rule, the size of this area varied. In Bengal the British standardised it to about one-third of an acre. Fig. 9 – The Indigo plant being brought from the fields to the factory chap 1-4.indd 33 4/22/2022 2:49:56 PMRationalised 2023-24 34 OUR PASTS – III Fig. 13 – The indigo is ready for sale Here you can see the last stage of the production – workers stamping and cutting the indigo pulp that has been pressed and moulded. In the background you can see a worker carrying away the blocks for drying. Fig. 12 – The Vat-Beater The indigo worker here is standing with the paddle that was used to stir the solution in the vat. These workers had to remain in waist-deep water for over eight hours to beat the indigo solution.Fig. 11 – Women usually carried the indigo plant to the vats. Vat – A fermenting or storage vesselFig. 10 – An indigo factory located near indigo fields, painting by William Simpson, 1863 The indigo villages were usually around indigo factories owned by planters. After harvest, the indigo plant was taken to the vats in the indigo factory. Three or four vats were needed to manufacture the dye. Each vat had a separate function. The leaves stripped off the indigo plant were first soaked in warm water in a vat (known as the fermenting or steeper vat) for several hours. When the plants fermented, the liquid began to boil and bubble. Now the rotten leaves were taken out and the liquid drained into another vat that was placed just below the first vat. In the second vat (known as the beater vat), the solution was continuously stirred and beaten with paddles. When the liquid gradually turned green and then blue, lime water was added to the vat. Gradually the indigo separated out in flakes, a muddy sediment settled at the bottom of the vat and a clear liquid rose to the surface. The liquid was drained off and the sediment – the indigo pulp – transferred to another vat (known as the settling vat), and then pressed and dried for sale. Fermenting VatBeater VatHow was indigo produced? chap 1-4.indd 34 4/22/2022 2:49:59 PMRationalised 2023-24 RULING THE COUNTRYSIDE 35 When the crop was delivered to the planter after the harvest, a new loan was given to the ryot, and the cycle started all over again. Peasants who were initially tempted by the loans soon realised how harsh the system was. The price they got for the indigo they produced was very low and the cycle of loans never ended. There were other problems too. The planters usually insisted that indigo be cultivated on the best soils in which peasants preferred to cultivate rice. Indigo, moreover, had deep roots and it exhausted the soil rapidly. After an indigo harvest the land could not be sown with rice. The “Blue Rebellion” and After In March 1859, thousands of ryots in Bengal refused to grow indigo. As the rebellion spread, ryots refused to pay rents to the planters, and attacked indigo factories armed with swords and spears, bows and arrows. Women turned up to fight with pots, pans and kitchen implements. Those who worked for the planters were socially boycotted, and the gomasthas – agents of planters – who came to collect rent were beaten up. Ryots swore they would no longer take advances to sow indigo nor be bullied by the planters’ lathiyals – the lathi-wielding strongmen maintained by the planters. Why did the indigo peasants decide that they would no longer remain silent? What gave them the power to rebel? Clearly, the indigo system was intensely oppressive. But those who are oppressed do not always rise up in rebellion. They do so only at times. In 1859, the indigo ryots felt that they had the support of the local zamindars and village headmen in their rebellion against the planters. In many villages, headmen who had been forced to sign indigo contracts, mobilised the indigo peasants and fought pitched battles with the lathiyals . In other places even the zamindars went around villages urging the ryots to resist the planters. These zamindars were unhappy with the increasing power of the planters and angry at being forced by the planters to give them land on long leases. The indigo peasants also imagined that the British government would support them in their struggle against the planters. After the Revolt of 1857, the British government was particularly worried about the possibility of another popular rebellion. When the news spread of a simmering revolt in the indigo districts, A song from an indigo-producing village In the moments of struggle, people often sing songs to inspire each other and to build a sense of collective unity. Such songs give us a glimpse of their feelings. During the indigo rebellion, many such songs could be heard in the villages of lower Bengal. Here is one such song: The long lathis wielded by the planter of Mollahati /now lie in a cluster The babus of Kolkata have sailed down /to see the great fight This time the raiyats are all ready, / they will no longer be beaten in silence They will no longer give up their life / without fighting the lathiyals.Source 2 chap 1-4.indd 35 4/22/2022 2:49:59 PMRationalised 2023-24 36 OUR PASTS – III the Lieutenant Governor toured the region in the winter of 1859. The ryots saw the tour as a sign of government sympathy for their plight. When in Barasat, the magistrate Ashley Eden issued a notice stating that ryots would not be compelled to accept indigo contracts, word went around that Queen Victoria had declared that indigo need not be sown. Eden was trying to placate the peasants and control an explosive situation, but his action was read as support for the rebellion. As the rebellion spread, intellectuals from Calcutta rushed to the indigo districts. They wrote of the misery of the ryots, the tyranny of the planters, and the horrors of the indigo system. Worried by the rebellion, the government brought in the military to protect the planters from assault, and set up the Indigo Commission to enquire into the system of indigo production. The Commission held the planters guilty, and criticised them for the coercive methods they used with indigo cultivators. It declared that indigo production was not profitable for ryots. The Commission asked the ryots to fulfil their existing contracts but also told them that they could refuse to produce indigo in future. “I would rather beg than sow indigo” Hadji Mulla, an indigo cultivator of Chandpore, Thana Hardi, was interviewed by the members of the Indigo Commission on Tuesday, 5 June 1860. This is what he said in answer to some of the questions: W. S. Seton Karr, President of the Indigo Commission: Are you now willing to sow indigo; and if not on what fresh terms would you be willing to do it? Hadji Mulla: I am not willing to sow, and I don’t know that any fresh terms would satisfy me. Mr Sale: Would you not be willing to sow at a rupee a bundle? Hadji Mulla: No I would not; rather than sow indigo I will go to another country; I would rather beg than sow indigo. Indigo Commission Report, Vol. II, Minutes of Evidence, p. 67 Source 3 Activity Imagine you are a witness giving evidence before the Indigo Commission. W.S. Seton Karr asks you “On what condition will ryots grow indigo?” What will your answer be? chap 1-4.indd 36 4/22/2022 2:50:00 PMRationalised 2023-24 RULING THE COUNTRYSIDE 37 Let’s recall 1. Match the following: ryot village mahal peasantnij cultivation on ryot’s lands ryoti cultivation on planter’s own land 2. Fill in the blanks: (a) Growers of woad in Europe saw __________ as a crop which would provide competition to their earnings. (b) The demand for indigo increased in late eighteenth-century Britain because of __________. (c) The international demand for indigo was affected by the discovery of __________. (d) The Champaran movement was against __________. Let’s discuss 3. Describe the main features of the Permanent Settlement. 4. How was the mahalwari system different from the Permanent Settlement?After the revolt, indigo production collapsed in Bengal. But the planters now shifted their operation to Bihar. With the discovery of synthetic dyes in the late nineteenth century, their business was severely affected, but yet they managed to expand production. When Mahatma Gandhi returned from South Africa, a peasant from Bihar persuaded him to visit Champaran and see the plight of the indigo cultivators there. Mahatma Gandhi’s visit in 1917 marked the beginning of the Champaran movement against the indigo planters. chap 1-4.indd 37 4/22/2022 2:50:01 PMRationalised 2023-24 38 OUR PASTS – III Let’s imagine Imagine a conversation between a planter and a peasant who is being forced to grow indigo. What reasons would the planter give to persuade the peasant? What problems would the peasant point out? Enact their conversation.5. Give two problems which arose with the new Munro system of fixing revenue. 6. Why were ryots reluctant to grow indigo? 7. What were the circumstances which led to the eventual collapse of indigo production in Bengal? Let’s do 8. Find out more about the Champaran movement and Mahatma Gandhi’s role in it. 9. Look into the history of either tea or coffee plantations in India. See how the life of workers in these plantations was similar to or different from that of workers in indigo plantations. chap 1-4.indd 38 4/22/2022 2:50:03 PMRationalised 2023-24\n"
          ]
        }
      ]
    },
    {
      "cell_type": "code",
      "source": [
        "print(len(chapter))"
      ],
      "metadata": {
        "colab": {
          "base_uri": "https://localhost:8080/"
        },
        "id": "S-awqkPI7lw_",
        "outputId": "f5aa9afe-fe1b-4bf1-ca95-b5204978fa02"
      },
      "execution_count": 19,
      "outputs": [
        {
          "output_type": "stream",
          "name": "stdout",
          "text": [
            "26198\n"
          ]
        }
      ]
    },
    {
      "cell_type": "code",
      "source": [
        "print(len(text))"
      ],
      "metadata": {
        "colab": {
          "base_uri": "https://localhost:8080/"
        },
        "id": "rBKNJJ3L7rg1",
        "outputId": "2c372aee-e73d-4517-c65b-777668a75957"
      },
      "execution_count": 20,
      "outputs": [
        {
          "output_type": "stream",
          "name": "stdout",
          "text": [
            "823\n"
          ]
        }
      ]
    },
    {
      "cell_type": "code",
      "execution_count": 10,
      "metadata": {
        "id": "KI_F5ymPwHIS"
      },
      "outputs": [],
      "source": [
        "#chapter_1=chapter[7:4050]"
      ]
    },
    {
      "cell_type": "markdown",
      "source": [
        "#prompt to get only one correct option\n"
      ],
      "metadata": {
        "id": "eXreYud38u7G"
      }
    },
    {
      "cell_type": "code",
      "execution_count": 18,
      "metadata": {
        "id": "GqcxrYv2uqWT",
        "colab": {
          "base_uri": "https://localhost:8080/"
        },
        "outputId": "b1afc33f-c589-415c-901f-d0f12655fe54"
      },
      "outputs": [
        {
          "output_type": "stream",
          "name": "stdout",
          "text": [
            "\n",
            "\n",
            "\u001b[1m> Entering new SequentialChain chain...\u001b[0m\n",
            "\n",
            "\u001b[1m> Finished chain.\u001b[0m\n",
            "Q1. What were the two problems that arose with the new Munro system of fixing revenue?\n",
            "\n",
            "a. Increased taxation and lack of transparency\n",
            "b. Decreased taxation and increased transparency\n",
            "c. Lack of taxation and lack of transparency\n",
            "d. Increased taxation and increased transparency\n",
            "\n",
            "Correct Option: (a)\n",
            "\n",
            "Q2. Why were ryots reluctant to grow indigo?\n",
            "\n",
            "a. Indigo was a difficult crop to cultivate\n",
            "b. Indigo had a low market demand\n",
            "c. Indigo required a large amount of water for irrigation\n",
            "d. Indigo cultivation was controlled by the British\n",
            "\n",
            "Correct Option: (d)\n",
            "\n",
            "Q3. What were the circumstances that led to the eventual collapse of indigo production in Bengal?\n",
            "\n",
            "a. The introduction of synthetic dyes\n",
            "b. The decline in demand for indigo in the international market\n",
            "c. The uprising of indigo farmers against the British\n",
            "d. The British government's decision to ban indigo cultivation\n",
            "\n",
            "Correct Option: (b)\n",
            "\n",
            "Q4. What was Mahatma Gandhi's role in the Champaran movement?\n",
            "\n",
            "a. He led the movement and organized protests\n",
            "b. He provided financial support to the indigo farmers\n",
            "c. He negotiated with the British authorities on behalf of the farmers\n",
            "d. He advocated for the rights of indigo farmers through his writings and speeches\n",
            "\n",
            "Correct Option: (a)\n",
            "\n",
            "Q5. How was the life of workers in tea or coffee plantations similar to or different from that of workers in indigo plantations?\n",
            "\n",
            "a. Workers in tea or coffee plantations had better working conditions compared to indigo plantations\n",
            "b. Workers in tea or coffee plantations faced similar issues of low wages and harsh working conditions as indigo plantations\n",
            "c. Workers in tea or coffee plantations had higher social status compared to indigo plantation workers\n",
            "d. Workers in tea or coffee plantations were not subjected to forced labor like indigo plantation workers\n",
            "\n",
            "Correct Option: (b)\n",
            "\n",
            "\n",
            "mca_questions_list = [\n",
            "    \"What were the two problems that arose with the new Munro system of fixing revenue?\",\n",
            "    \"Why were ryots reluctant to grow indigo?\",\n",
            "    \"What were the circumstances that led to the eventual collapse of indigo production in Bengal?\",\n",
            "    \"What was Mahatma Gandhi's role in the Champaran movement?\",\n",
            "    \"How was the life of workers in tea or coffee plantations similar to or different from that of workers in indigo plantations?\"\n",
            "]\n"
          ]
        }
      ],
      "source": [
        "#prompt to get only one correct option\n",
        "\n",
        "llm=ChatOpenAI(model='gpt-3.5-turbo',temperature=0.2) #used lastest basic version of chatGPT \"gpt-3.5.turbo\"\n",
        "\n",
        "mcq_questions_prompt = PromptTemplate(\n",
        "    input_variables=['Text'],\n",
        "    template=\n",
        "\"\"\"\n",
        "Generate 5 Multiple choice Questions with Medium to Hard level difficulty from the given context with each question having 4 options.\n",
        "The Format of the Questions and Answers should be\n",
        "\n",
        "Q1. Question --Each Question should be in a single line.\n",
        "\n",
        "a. option 1\n",
        "b. option 2\n",
        "c. option 3\n",
        "d. option 4\n",
        "Correct Options: (a) or (c) or (d) or (b)\n",
        "\n",
        "Correct Options should contain only one correct options in single with bold letters.\n",
        "{Text}\n",
        "\"\"\"\n",
        ")\n",
        "\n",
        "mcq_Ques_chains=LLMChain(llm=llm, prompt=mcq_questions_prompt, output_key=\"mcq_questions\")\n",
        "\n",
        "mcq_question_list_prompt = PromptTemplate(\n",
        "    input_variables=[\"mcq_questions\"],\n",
        "    template=\"\"\"\n",
        "  Please extract only the questions from the following list of generated MCQs and should return as list of [str1,str2,str3...] and name the list as \"mca_questions_list\"\n",
        "  {mcq_questions}\n",
        "  \"\"\"\n",
        ")\n",
        "mcq_Ques_chains_list=LLMChain(llm=llm,prompt=mcq_question_list_prompt,output_key= \"mcq_questions_list\")\n",
        "\n",
        "overall_chain = SequentialChain(\n",
        "    chains=[mcq_Ques_chains, mcq_Ques_chains_list],\n",
        "    input_variables=[\"Text\"],\n",
        "    # Here we can return multiple variables\n",
        "    output_variables=[\"mcq_questions\", \"mcq_questions_list\"],\n",
        "    verbose=True)\n",
        "\n",
        "\n",
        "result=overall_chain({'Text':text})  ## make sure len of text should not be more than 4097\n",
        "print(result['mcq_questions'])\n",
        "print('\\n')\n",
        "print(result['mcq_questions_list'])"
      ]
    },
    {
      "cell_type": "code",
      "source": [],
      "metadata": {
        "id": "UG2HKZW_9O1T"
      },
      "execution_count": null,
      "outputs": []
    },
    {
      "cell_type": "markdown",
      "source": [
        "\n",
        "#promt to print only two right answers\n",
        "\n"
      ],
      "metadata": {
        "id": "_ESnGZJv82X0"
      }
    },
    {
      "cell_type": "code",
      "source": [
        "#promt to print only two right answers\n",
        "\n",
        "llm=ChatOpenAI(model='gpt-3.5-turbo',temperature=0.2)\n",
        "\n",
        "mcq_questions_prompt = PromptTemplate(\n",
        "    input_variables=['Text'],\n",
        "    template=\n",
        "\"\"\"\n",
        "Generate 5 Multiple choice Questions with Medium to Hard level difficulty from the given context with each question having 4 options out of which atleast 2 options are correct.\n",
        "Make sure Each question Must Compulsorily have two correct answers.\n",
        "\n",
        "The Format of the Questions and Answers should be\n",
        "\n",
        "Q1. Question --Each Question should be in a single line.\n",
        "\n",
        "a. option 1\n",
        "b. option 2\n",
        "c. option 3\n",
        "d. option 4\n",
        "Correct Options: (a) & (c) & (d) & (b)\n",
        "\n",
        "Correct Options should contain only two correct options in single line seperated by & symbol.\n",
        "{Text}\n",
        "\"\"\"\n",
        ")\n",
        "\n",
        "mcq_Ques_chains=LLMChain(llm=llm, prompt=mcq_questions_prompt, output_key=\"mcq_questions\")\n",
        "\n",
        "mcq_question_list_prompt = PromptTemplate(\n",
        "    input_variables=[\"mcq_questions\"],\n",
        "    template=\"\"\"\n",
        "  Please extract only the questions from the following list of generated MCQs and should return as list of [str1,str2,str3...] and name the list as \"mca_questions_list\"\n",
        "  {mcq_questions}\n",
        "  \"\"\"\n",
        ")\n",
        "mcq_Ques_chains_list=LLMChain(llm=llm,prompt=mcq_question_list_prompt,output_key= \"mcq_questions_list\")\n",
        "\n",
        "overall_chain = SequentialChain(\n",
        "    chains=[mcq_Ques_chains, mcq_Ques_chains_list],\n",
        "    input_variables=[\"Text\"],\n",
        "    # Here we return multiple variables\n",
        "    output_variables=[\"mcq_questions\", \"mcq_questions_list\"],\n",
        "    verbose=True)\n",
        "\n",
        "\n",
        "result=overall_chain({'Text':text})  ## make sure len of text should not be more than 4097\n",
        "print(result['mcq_questions'])\n",
        "print('\\n')\n",
        "print(result['mcq_questions_list'])"
      ],
      "metadata": {
        "colab": {
          "base_uri": "https://localhost:8080/"
        },
        "id": "gTNA8P1D11V7",
        "outputId": "e30f2180-b2fe-41c4-d022-5b3b4bf1e5d2"
      },
      "execution_count": 12,
      "outputs": [
        {
          "output_type": "stream",
          "name": "stdout",
          "text": [
            "\n",
            "\n",
            "\u001b[1m> Entering new SequentialChain chain...\u001b[0m\n",
            "\n",
            "\u001b[1m> Finished chain.\u001b[0m\n",
            "Q1. What problems did the ryots point out regarding the new Munro system of fixing revenue?\n",
            "\n",
            "a. Increased taxation\n",
            "b. Lack of transparency in revenue collection\n",
            "c. Exploitation by the planter\n",
            "d. Unfair distribution of land\n",
            "\n",
            "Correct Options: (a) & (b)\n",
            "\n",
            "Q2. Why were ryots reluctant to grow indigo?\n",
            "\n",
            "a. Low profitability of indigo cultivation\n",
            "b. High demand for other cash crops\n",
            "c. Lack of knowledge and resources for indigo cultivation\n",
            "d. Fear of exploitation by the planters\n",
            "\n",
            "Correct Options: (a) & (c)\n",
            "\n",
            "Q3. What were the circumstances that led to the eventual collapse of indigo production in Bengal?\n",
            "\n",
            "a. Decline in demand for indigo in the international market\n",
            "b. Peasant resistance and protests against indigo cultivation\n",
            "c. Introduction of more profitable cash crops\n",
            "d. Government intervention and regulation of indigo industry\n",
            "\n",
            "Correct Options: (a) & (b)\n",
            "\n",
            "Q4. What were two problems that arose with the new Munro system of fixing revenue?\n",
            "\n",
            "a. Increased burden on the peasants\n",
            "b. Lack of accountability and corruption in revenue collection\n",
            "c. Unequal distribution of land among the ryots\n",
            "d. Exploitation of the peasants by the planter\n",
            "\n",
            "Correct Options: (a) & (b)\n",
            "\n",
            "Q5. How was the life of workers in tea or coffee plantations similar to or different from that of workers in indigo plantations?\n",
            "\n",
            "a. Similar working conditions and exploitation by the planters\n",
            "b. Different crops and cultivation techniques\n",
            "c. Tea and coffee plantations provided better living conditions for workers\n",
            "d. Indigo plantations offered more job opportunities compared to tea or coffee plantations\n",
            "\n",
            "Correct Options: (a) & (c)\n",
            "\n",
            "\n",
            "mca_questions_list = [\n",
            "    \"What problems did the ryots point out regarding the new Munro system of fixing revenue?\",\n",
            "    \"Why were ryots reluctant to grow indigo?\",\n",
            "    \"What were the circumstances that led to the eventual collapse of indigo production in Bengal?\",\n",
            "    \"What were two problems that arose with the new Munro system of fixing revenue?\",\n",
            "    \"How was the life of workers in tea or coffee plantations similar to or different from that of workers in indigo plantations?\"\n",
            "]\n"
          ]
        }
      ]
    },
    {
      "cell_type": "code",
      "source": [],
      "metadata": {
        "id": "wk_ohjP34SYE"
      },
      "execution_count": null,
      "outputs": []
    },
    {
      "cell_type": "markdown",
      "source": [
        "#promt to get more than two correct options\n"
      ],
      "metadata": {
        "id": "HckGlYIx9Js0"
      }
    },
    {
      "cell_type": "code",
      "source": [
        "#promt to get more than two correct options\n",
        "\n",
        "llm=ChatOpenAI(model='gpt-3.5-turbo',temperature=0.2)\n",
        "\n",
        "mcq_questions_prompt = PromptTemplate(\n",
        "    input_variables=['Text'],\n",
        "    template=\n",
        "\"\"\"\n",
        "Generate 5 Multiple choice Questions with Medium to Hard level difficulty from the given context with each question having 4 options out of which atleast 2 options are correct.\n",
        "Make sure Each question Must Compulsorily have two correct answers.\n",
        "\n",
        "The Format of the Questions and Answers should be\n",
        "\n",
        "Q1. Question --Each Question should be in a single line.\n",
        "\n",
        "a. option 1\n",
        "b. option 2\n",
        "c. option 3\n",
        "d. option 4\n",
        "Correct Options: (a) & (c) & (d) & (b)\n",
        "\n",
        "Correct Options should contain only two correct options in single line seperated by & symbol.\n",
        "{Text}\n",
        "\"\"\"\n",
        ")\n",
        "\n",
        "mcq_Ques_chains=LLMChain(llm=llm, prompt=mcq_questions_prompt, output_key=\"mcq_questions\")\n",
        "\n",
        "mcq_question_list_prompt = PromptTemplate(\n",
        "    input_variables=[\"mcq_questions\"],\n",
        "    template=\"\"\"\n",
        "  Please extract only the questions from the following list of generated MCQs and should return as list of [str1,str2,str3...] and name the list as \"mca_questions_list\"\n",
        "  {mcq_questions}\n",
        "  \"\"\"\n",
        ")\n",
        "mcq_Ques_chains_list=LLMChain(llm=llm,prompt=mcq_question_list_prompt,output_key= \"mcq_questions_list\")\n",
        "\n",
        "overall_chain = SequentialChain(\n",
        "    chains=[mcq_Ques_chains, mcq_Ques_chains_list],\n",
        "    input_variables=[\"Text\"],\n",
        "    # Here we return multiple variables\n",
        "    output_variables=[\"mcq_questions\", \"mcq_questions_list\"],\n",
        "    verbose=True)\n",
        "\n",
        "\n",
        "result=overall_chain({'Text':text})  ## make sure len of text should not be more than 4097\n",
        "print(result['mcq_questions'])\n",
        "print('\\n')\n",
        "print(result['mcq_questions_list'])"
      ],
      "metadata": {
        "colab": {
          "base_uri": "https://localhost:8080/"
        },
        "id": "6Cxe_X8L5Sqb",
        "outputId": "d1ce5020-6359-4d33-d8cb-b9d2ee025b04"
      },
      "execution_count": 9,
      "outputs": [
        {
          "output_type": "stream",
          "name": "stdout",
          "text": [
            "\n",
            "\n",
            "\u001b[1m> Entering new SequentialChain chain...\u001b[0m\n",
            "\n",
            "\u001b[1m> Finished chain.\u001b[0m\n",
            "Q1. What were the reasons given by the planter to persuade the peasant to grow indigo?\n",
            "\n",
            "a. Promised higher profits\n",
            "b. Assured protection from British authorities\n",
            "c. Offered advanced farming techniques\n",
            "d. Provided financial assistance for seeds and equipment\n",
            "\n",
            "Correct Options: (a) & (c) & (d)\n",
            "\n",
            "Q2. What problems did the peasant point out in growing indigo?\n",
            "\n",
            "a. Low market demand for indigo\n",
            "b. Excessive workload and long hours\n",
            "c. Lack of proper compensation for their labor\n",
            "d. Inadequate infrastructure for indigo production\n",
            "\n",
            "Correct Options: (b) & (c) & (d)\n",
            "\n",
            "Q3. What were two problems that arose with the new Munro system of fixing revenue?\n",
            "\n",
            "a. Increased tax burden on peasants\n",
            "b. Unfair distribution of land among peasants\n",
            "c. Lack of transparency in revenue collection\n",
            "d. Exploitation of peasants by revenue officials\n",
            "\n",
            "Correct Options: (a) & (d)\n",
            "\n",
            "Q4. Why were ryots reluctant to grow indigo?\n",
            "\n",
            "a. Indigo cultivation required specialized skills\n",
            "b. Indigo trade was controlled by British merchants\n",
            "c. Indigo cultivation led to soil degradation\n",
            "d. Indigo production was not financially rewarding\n",
            "\n",
            "Correct Options: (b) & (c)\n",
            "\n",
            "Q5. What were the circumstances that led to the eventual collapse of indigo production in Bengal?\n",
            "\n",
            "a. Peasant uprisings against indigo planters\n",
            "b. Introduction of synthetic indigo dye\n",
            "c. Decline in demand for indigo in international markets\n",
            "d. Government intervention to protect peasant rights\n",
            "\n",
            "Correct Options: (a) & (b) & (c)\n",
            "\n",
            "\n",
            "mca_questions_list = [\n",
            "    \"What were the reasons given by the planter to persuade the peasant to grow indigo?\",\n",
            "    \"What problems did the peasant point out in growing indigo?\",\n",
            "    \"What were two problems that arose with the new Munro system of fixing revenue?\",\n",
            "    \"Why were ryots reluctant to grow indigo?\",\n",
            "    \"What were the circumstances that led to the eventual collapse of indigo production in Bengal?\"\n",
            "]\n"
          ]
        }
      ]
    },
    {
      "cell_type": "code",
      "execution_count": 23,
      "metadata": {
        "id": "ZzVED4fRXDN8"
      },
      "outputs": [],
      "source": []
    },
    {
      "cell_type": "code",
      "execution_count": 23,
      "metadata": {
        "id": "ICibqZ-cutFh"
      },
      "outputs": [],
      "source": []
    },
    {
      "cell_type": "code",
      "source": [],
      "metadata": {
        "id": "XsDFhLoX9R4u"
      },
      "execution_count": null,
      "outputs": []
    },
    {
      "cell_type": "code",
      "source": [],
      "metadata": {
        "id": "gAiGMkSDJ_0P"
      },
      "execution_count": null,
      "outputs": []
    },
    {
      "cell_type": "code",
      "source": [],
      "metadata": {
        "id": "dGTNHnWVJ_3T"
      },
      "execution_count": null,
      "outputs": []
    },
    {
      "cell_type": "code",
      "source": [],
      "metadata": {
        "id": "wnwebAmNJ_6L"
      },
      "execution_count": null,
      "outputs": []
    }
  ],
  "metadata": {
    "colab": {
      "provenance": [],
      "include_colab_link": true
    },
    "kernelspec": {
      "display_name": "Python 3",
      "name": "python3"
    },
    "language_info": {
      "name": "python"
    }
  },
  "nbformat": 4,
  "nbformat_minor": 0
}